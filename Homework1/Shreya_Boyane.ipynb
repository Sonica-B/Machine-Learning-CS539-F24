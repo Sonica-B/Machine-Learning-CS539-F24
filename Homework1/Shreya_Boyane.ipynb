{
 "cells": [
  {
   "cell_type": "markdown",
   "id": "145f0dd7-baf4-43d4-9ff4-4f1918e71cf6",
   "metadata": {},
   "source": [
    "# Problem 1"
   ]
  },
  {
   "cell_type": "markdown",
   "id": "7e102584-ec91-490f-b40f-275b36575ff3",
   "metadata": {},
   "source": [
    "Importing required libraries for EDA"
   ]
  },
  {
   "cell_type": "code",
   "execution_count": 1,
   "id": "fe93b4e6-1bb2-4011-b64d-c527a899f2f8",
   "metadata": {},
   "outputs": [],
   "source": [
    "#data manipulation\n",
    "import pandas as pd\n",
    "import numpy as np\n",
    "\n",
    "#data visualizations\n",
    "import matplotlib.pyplot as plt\n",
    "import seaborn as sns\n",
    "\n",
    "#use sklearn to import a dataset\n",
    "from sklearn.datasets import load_iris"
   ]
  },
  {
   "cell_type": "markdown",
   "id": "6a58c425-13af-4894-8100-d907d7ec0f38",
   "metadata": {},
   "source": [
    "a. Identify and rectify any missing values in the data using appropriate techniques. \n"
   ]
  },
  {
   "cell_type": "code",
   "execution_count": null,
   "id": "ea5cc29a-b297-4255-a0e1-d419c4b27552",
   "metadata": {},
   "outputs": [],
   "source": []
  },
  {
   "cell_type": "markdown",
   "id": "3f86a9b7-7cdd-49d1-8f78-6105ae18ed8c",
   "metadata": {},
   "source": [
    "b. Transform the Years and Month columns into a single column labeled \"Date\" in \n",
    "the MM-YYYY format, with a datetime64[ns] data type. For example, the year \n",
    "1848 and month 5 should be unified as a single value, such as 5-1848."
   ]
  },
  {
   "cell_type": "code",
   "execution_count": null,
   "id": "b34d2cb4-7f07-4b9e-85e6-4e80b7225365",
   "metadata": {},
   "outputs": [],
   "source": []
  },
  {
   "cell_type": "markdown",
   "id": "c98b5616-610e-4c3c-86d5-2c2a951022aa",
   "metadata": {},
   "source": [
    "c. Detect and investigate extreme temperature values that might be regarded as \n",
    "outliers."
   ]
  },
  {
   "cell_type": "code",
   "execution_count": null,
   "id": "8f8e32f1-8538-4d49-a7df-0fd4763d0f77",
   "metadata": {},
   "outputs": [],
   "source": []
  },
  {
   "cell_type": "markdown",
   "id": "ce4591a6-eb28-41bf-ae5b-78ab27b4001e",
   "metadata": {},
   "source": [
    "d. Compute summary statistics for temperature, monthly variation, and anomaly \r\n",
    "values, including mean, median, standard deviation, and range"
   ]
  },
  {
   "cell_type": "code",
   "execution_count": null,
   "id": "23c4d1d7-39f3-4e9a-af3e-ece157b16dbf",
   "metadata": {},
   "outputs": [],
   "source": []
  },
  {
   "cell_type": "markdown",
   "id": "d8c4e1ff-bf29-4fc3-8bb4-0021280d8b8d",
   "metadata": {},
   "source": [
    "e. Identify the countries included in the dataset and calculate their average \n",
    "temperature values."
   ]
  },
  {
   "cell_type": "code",
   "execution_count": null,
   "id": "820bc422-9efb-43fd-a557-f67525e1042c",
   "metadata": {},
   "outputs": [],
   "source": []
  },
  {
   "cell_type": "markdown",
   "id": "ea7edea8-d0be-4510-9578-b718d860c961",
   "metadata": {},
   "source": [
    "f. Determine the overall trend in global temperatures over the years and visualize \n",
    "this trend using a suitable chart."
   ]
  },
  {
   "cell_type": "code",
   "execution_count": null,
   "id": "99913166-da5f-4031-b7f2-9cfb98c26dfc",
   "metadata": {},
   "outputs": [],
   "source": []
  },
  {
   "cell_type": "markdown",
   "id": "d4538b74-a2a7-47fa-a211-4da41c4dcfb1",
   "metadata": {},
   "source": [
    "g. Identify the months with the highest and lowest temperatures for each country \n",
    "and find out whether there are noticeable seasonal patterns in the temperature \n",
    "data."
   ]
  },
  {
   "cell_type": "code",
   "execution_count": null,
   "id": "6b8a848b-1dee-44a0-846a-ef6e8a537134",
   "metadata": {},
   "outputs": [],
   "source": []
  },
  {
   "cell_type": "markdown",
   "id": "ef65e0e0-b90d-4cba-b50e-4de3553f0d03",
   "metadata": {},
   "source": [
    "h. Explore the variation in temperature anomalies on a monthly basis and identify \n",
    "any months with consistently high or low anomalies across the years."
   ]
  },
  {
   "cell_type": "code",
   "execution_count": null,
   "id": "5170564a-9b67-49a2-bb95-017ec3af11e3",
   "metadata": {},
   "outputs": [],
   "source": []
  },
  {
   "cell_type": "markdown",
   "id": "93dc8da7-add4-42e7-ae5f-220a9bd9d696",
   "metadata": {},
   "source": [
    "i. Choose five countries and compare the trends in their temperatures over the \n",
    "years, seeking any similar temperature patterns"
   ]
  },
  {
   "cell_type": "code",
   "execution_count": null,
   "id": "74a31b60-798e-43dd-911f-75453c6c7974",
   "metadata": {},
   "outputs": [],
   "source": []
  },
  {
   "cell_type": "markdown",
   "id": "d898674e-d860-4904-881f-32242bf8a621",
   "metadata": {},
   "source": [
    "j. Explore the potential correlation between temperature and monthly variation or\n",
    "anomaly values. Calculate correlation coefficients and create scatterplots to \n",
    "investigate this relationship."
   ]
  },
  {
   "cell_type": "code",
   "execution_count": null,
   "id": "c4771ac3-0a6d-4df2-8ca2-230c0870d773",
   "metadata": {},
   "outputs": [],
   "source": []
  },
  {
   "cell_type": "markdown",
   "id": "9a93f784-9fa9-4225-89cd-1601176884d3",
   "metadata": {},
   "source": [
    "k. Provide an intriguing insight from the dataset by utilizing data visualization \r\n",
    "techniques such as histograms, box plots, or heatmaps to represent the data's \r\n",
    "distribution, trends, and relationships."
   ]
  },
  {
   "cell_type": "code",
   "execution_count": null,
   "id": "f9c0b4c0-9d1a-4f23-a051-6031951cfdb8",
   "metadata": {},
   "outputs": [],
   "source": []
  }
 ],
 "metadata": {
  "kernelspec": {
   "display_name": "Python 3",
   "language": "python",
   "name": "python3"
  },
  "language_info": {
   "codemirror_mode": {
    "name": "ipython",
    "version": 3
   },
   "file_extension": ".py",
   "mimetype": "text/x-python",
   "name": "python",
   "nbconvert_exporter": "python",
   "pygments_lexer": "ipython3",
   "version": "3.12.4"
  }
 },
 "nbformat": 4,
 "nbformat_minor": 5
}
